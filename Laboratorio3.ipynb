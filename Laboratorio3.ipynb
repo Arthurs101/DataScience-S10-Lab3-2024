{
 "cells": [
  {
   "cell_type": "markdown",
   "metadata": {},
   "source": [
    "# Laboratorio 3 Data Science S10\n",
    "- Arturo Argueta\n",
    "- Astrid Glauser\n"
   ]
  },
  {
   "cell_type": "code",
   "execution_count": 1,
   "metadata": {},
   "outputs": [],
   "source": [
    "import pandas as pd"
   ]
  },
  {
   "cell_type": "code",
   "execution_count": 4,
   "metadata": {},
   "outputs": [
    {
     "data": {
      "text/html": [
       "<div>\n",
       "<style scoped>\n",
       "    .dataframe tbody tr th:only-of-type {\n",
       "        vertical-align: middle;\n",
       "    }\n",
       "\n",
       "    .dataframe tbody tr th {\n",
       "        vertical-align: top;\n",
       "    }\n",
       "\n",
       "    .dataframe thead th {\n",
       "        text-align: right;\n",
       "    }\n",
       "</style>\n",
       "<table border=\"1\" class=\"dataframe\">\n",
       "  <thead>\n",
       "    <tr style=\"text-align: right;\">\n",
       "      <th></th>\n",
       "      <th>Fecha</th>\n",
       "      <th>GasolinaRegular</th>\n",
       "      <th>GasolinaSuper</th>\n",
       "      <th>DieselLS</th>\n",
       "      <th>DieselUltraLS</th>\n",
       "      <th>GasLicuado</th>\n",
       "    </tr>\n",
       "  </thead>\n",
       "  <tbody>\n",
       "    <tr>\n",
       "      <th>0</th>\n",
       "      <td>2001-01-01</td>\n",
       "      <td>177776.50</td>\n",
       "      <td>373963.96</td>\n",
       "      <td>0.0</td>\n",
       "      <td>0.0</td>\n",
       "      <td>194065.738095</td>\n",
       "    </tr>\n",
       "    <tr>\n",
       "      <th>1</th>\n",
       "      <td>2001-02-01</td>\n",
       "      <td>123115.99</td>\n",
       "      <td>243091.07</td>\n",
       "      <td>0.0</td>\n",
       "      <td>0.0</td>\n",
       "      <td>170703.380952</td>\n",
       "    </tr>\n",
       "    <tr>\n",
       "      <th>2</th>\n",
       "      <td>2001-03-01</td>\n",
       "      <td>161726.42</td>\n",
       "      <td>312084.38</td>\n",
       "      <td>0.0</td>\n",
       "      <td>0.0</td>\n",
       "      <td>161837.371429</td>\n",
       "    </tr>\n",
       "    <tr>\n",
       "      <th>3</th>\n",
       "      <td>2001-04-01</td>\n",
       "      <td>127338.74</td>\n",
       "      <td>285054.89</td>\n",
       "      <td>0.0</td>\n",
       "      <td>0.0</td>\n",
       "      <td>163048.642857</td>\n",
       "    </tr>\n",
       "    <tr>\n",
       "      <th>4</th>\n",
       "      <td>2001-05-01</td>\n",
       "      <td>168730.19</td>\n",
       "      <td>300913.67</td>\n",
       "      <td>0.0</td>\n",
       "      <td>0.0</td>\n",
       "      <td>171518.861905</td>\n",
       "    </tr>\n",
       "  </tbody>\n",
       "</table>\n",
       "</div>"
      ],
      "text/plain": [
       "       Fecha  GasolinaRegular  GasolinaSuper  DieselLS  DieselUltraLS  \\\n",
       "0 2001-01-01        177776.50      373963.96       0.0            0.0   \n",
       "1 2001-02-01        123115.99      243091.07       0.0            0.0   \n",
       "2 2001-03-01        161726.42      312084.38       0.0            0.0   \n",
       "3 2001-04-01        127338.74      285054.89       0.0            0.0   \n",
       "4 2001-05-01        168730.19      300913.67       0.0            0.0   \n",
       "\n",
       "      GasLicuado  \n",
       "0  194065.738095  \n",
       "1  170703.380952  \n",
       "2  161837.371429  \n",
       "3  163048.642857  \n",
       "4  171518.861905  "
      ]
     },
     "execution_count": 4,
     "metadata": {},
     "output_type": "execute_result"
    }
   ],
   "source": [
    "# Carga de los conjutos de prueba y testing para ambos archivos\n",
    "# Identicos al laboratorio Anterior\n",
    "\n",
    "importacion_df = pd.read_excel('importacion.xlsx', skiprows=6)\n",
    "importacion_df.columns = [\n",
    "    'Fecha', 'AceitesLubricantes', 'Asfalto', 'Bunker', 'Ceras', \n",
    "    'CombustibleTurboJet', 'DieselLS', 'DieselUltraLS', 'GasLicuado', \n",
    "    'GasolinaAviacion', 'GasolinaRegular', 'GasolinaSuper', 'Kerosina', \n",
    "    'MTBE', 'Naftas', 'Petcoke', 'PetroleoCrudo', 'Solventes', \n",
    "    'Butano', 'DieselAltoAzufre', 'Orimulsion', 'PetroleoReconstituido', \n",
    "    'TotalImportacion', 'ColumnaExtra1', 'ColumnaExtra2'\n",
    "]\n",
    "\n",
    "# Convertir la columna de fechas a formato datetime\n",
    "importacion_df['Fecha'] = pd.to_datetime(importacion_df['Fecha'], errors='coerce')\n",
    "importacion_df = importacion_df.dropna()\n",
    "#usar solo las columnas de interés ( 'GasolinaRegular', 'GasolinaSuper', 'DieselLS ,'DieselUltraLS', 'GasLicuado' y la Fecha)\n",
    "importacion_df = importacion_df[['Fecha','GasolinaRegular', 'GasolinaSuper', 'DieselLS' ,'DieselUltraLS', 'GasLicuado']]\n",
    "importacion_df.head()\n"
   ]
  },
  {
   "cell_type": "code",
   "execution_count": 6,
   "metadata": {},
   "outputs": [
    {
     "name": "stdout",
     "output_type": "stream",
     "text": [
      "       Fecha  GasolinaRegular  GasolinaSuper  DieselLS  DieselUltraLS  \\\n",
      "0 2001-01-01        177776.50      373963.96       0.0            0.0   \n",
      "1 2001-02-01        123115.99      243091.07       0.0            0.0   \n",
      "2 2001-03-01        161726.42      312084.38       0.0            0.0   \n",
      "3 2001-04-01        127338.74      285054.89       0.0            0.0   \n",
      "4 2001-05-01        168730.19      300913.67       0.0            0.0   \n",
      "\n",
      "      GasLicuado  \n",
      "0  194065.738095  \n",
      "1  170703.380952  \n",
      "2  161837.371429  \n",
      "3  163048.642857  \n",
      "4  171518.861905  \n",
      "         Fecha  GasolinaRegular  GasolinaSuper    DieselLS  DieselUltraLS  \\\n",
      "240 2021-01-01        626537.48      642652.37  1185644.96        1499.38   \n",
      "241 2021-02-01        715261.34      726508.78  1076824.67        1203.34   \n",
      "242 2021-03-01        772750.01      850334.64  1345110.18       13415.05   \n",
      "243 2021-04-01        634408.89     1227173.53  1250171.58       39568.59   \n",
      "244 2021-05-01        669085.78      649783.14  1279017.24           0.00   \n",
      "\n",
      "     GasLicuado  \n",
      "240   475619.49  \n",
      "241   617783.16  \n",
      "242   549815.26  \n",
      "243   664443.94  \n",
      "244   678501.06  \n"
     ]
    }
   ],
   "source": [
    "#Separar en Train y Test\n",
    "split_date = '2021-01-01'\n",
    "train_df = importacion_df[importacion_df['Fecha'] < split_date]\n",
    "test_df = importacion_df[importacion_df['Fecha'] >= split_date]\n",
    "print(train_df.head())\n",
    "print(test_df.head())"
   ]
  }
 ],
 "metadata": {
  "kernelspec": {
   "display_name": "Python 3",
   "language": "python",
   "name": "python3"
  },
  "language_info": {
   "codemirror_mode": {
    "name": "ipython",
    "version": 3
   },
   "file_extension": ".py",
   "mimetype": "text/x-python",
   "name": "python",
   "nbconvert_exporter": "python",
   "pygments_lexer": "ipython3",
   "version": "3.11.9"
  }
 },
 "nbformat": 4,
 "nbformat_minor": 2
}
